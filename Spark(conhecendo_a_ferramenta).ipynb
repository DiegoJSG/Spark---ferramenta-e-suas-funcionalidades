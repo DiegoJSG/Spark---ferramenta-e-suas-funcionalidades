{
  "nbformat": 4,
  "nbformat_minor": 0,
  "metadata": {
    "colab": {
      "provenance": [],
      "mount_file_id": "1JKgYJ4ro1Wkxemd09oGGZ-ybaPSlZMQ-",
      "authorship_tag": "ABX9TyP1KBDGxWELP5YvMfrUCiz4",
      "include_colab_link": true
    },
    "kernelspec": {
      "name": "python3",
      "display_name": "Python 3"
    },
    "language_info": {
      "name": "python"
    }
  },
  "cells": [
    {
      "cell_type": "markdown",
      "metadata": {
        "id": "view-in-github",
        "colab_type": "text"
      },
      "source": [
        "<a href=\"https://colab.research.google.com/github/DiegoJSG/Spark_ferramenta_e_suas_funcionalidades/blob/main/Spark(conhecendo_a_ferramenta).ipynb\" target=\"_parent\"><img src=\"https://colab.research.google.com/assets/colab-badge.svg\" alt=\"Open In Colab\"/></a>"
      ]
    },
    {
      "cell_type": "code",
      "execution_count": 1,
      "metadata": {
        "id": "JmcO4uWZ3OLO"
      },
      "outputs": [],
      "source": [
        "# instalar as dependências toda vez que encerrar a sessao e comecar uma nova\n",
        "!apt-get update -qq\n",
        "!apt-get install openjdk-8-jdk-headless -qq > /dev/null\n",
        "!wget -q https://archive.apache.org/dist/spark/spark-3.1.2/spark-3.1.2-bin-hadoop2.7.tgz\n",
        "!tar xf spark-3.1.2-bin-hadoop2.7.tgz\n",
        "!pip install -q findspark"
      ]
    },
    {
      "cell_type": "code",
      "source": [
        "#configurar variaveis de ambiente\n",
        "import os\n",
        "os.environ[\"JAVA_HOME\"] = \"/usr/lib/jvm/java-8-openjdk-amd64\"\n",
        "os.environ[\"SPARK_HOME\"] = \"/content/spark-3.1.2-bin-hadoop2.7\""
      ],
      "metadata": {
        "id": "FYWEJ-hG1zSk"
      },
      "execution_count": 8,
      "outputs": []
    },
    {
      "cell_type": "markdown",
      "source": [],
      "metadata": {
        "id": "3zaGXmqzFWHy"
      }
    },
    {
      "cell_type": "code",
      "source": [
        "# importando e iniciando o findspark\n",
        "import findspark\n",
        "findspark.init()"
      ],
      "metadata": {
        "id": "yoa-8UYo2e4x"
      },
      "execution_count": 9,
      "outputs": []
    },
    {
      "cell_type": "code",
      "source": [
        "# exemplo cas queira entender melhor como o spark UI funciona\n",
        "# from pyspark.sql import SparkSession\n",
        "\n",
        "# spark = SparkSession.builder \\\n",
        "#     .master('local[*]') \\\n",
        "#     .appName(\"Iniciando com Spark\") \\\n",
        "#     .getOrCreate()"
      ],
      "metadata": {
        "id": "brKrLkIm3VL0"
      },
      "execution_count": null,
      "outputs": []
    },
    {
      "cell_type": "code",
      "source": [
        "# apertando (ctrl+/ ) comenta a sessao de codigo (#) e (crtl +k+u) descomenta voltando ao estao normal\n",
        "\n",
        "# spark"
      ],
      "metadata": {
        "id": "a_Lji12j3ocD"
      },
      "execution_count": null,
      "outputs": []
    },
    {
      "cell_type": "code",
      "source": [
        "from pyspark.sql import SparkSession\n",
        "\n",
        "spark = SparkSession.builder\\\n",
        "     .master('local[*]')\\\n",
        "    .appName(\"Iniciando com Spark\")\\\n",
        "    .config('spark.ui.port', '4050')\\\n",
        "    .getOrCreate()"
      ],
      "metadata": {
        "id": "eo95Q3RHF3qL"
      },
      "execution_count": 10,
      "outputs": []
    },
    {
      "cell_type": "code",
      "source": [
        "!wget -q https://bin.equinox.io/c/4VmDzA7iaHb/ngrok-stable-linux-amd64.zip\n",
        "!unzip ngrok-stable-linux-amd64.zip"
      ],
      "metadata": {
        "colab": {
          "base_uri": "https://localhost:8080/"
        },
        "id": "58ZhCjGd6aWv",
        "outputId": "bbd703e1-0064-4ca5-be87-56b3cfba712b"
      },
      "execution_count": 11,
      "outputs": [
        {
          "output_type": "stream",
          "name": "stdout",
          "text": [
            "Archive:  ngrok-stable-linux-amd64.zip\n",
            "replace ngrok? [y]es, [n]o, [A]ll, [N]one, [r]ename: y\n",
            "  inflating: ngrok                   \n"
          ]
        }
      ]
    },
    {
      "cell_type": "code",
      "source": [
        "get_ipython().system_raw('./ngrok authtoken 2RTL6KWgi7y28itU58wf17nxQgm_34S2snMgoq7se25A9Cjeu')\n",
        "get_ipython().system_raw('./ngrok http 4050 &')"
      ],
      "metadata": {
        "id": "OSEX1LDt6k0k"
      },
      "execution_count": 12,
      "outputs": []
    },
    {
      "cell_type": "code",
      "source": [
        "#apos executar a cedula acima espere alguns segundos para executar o !CURL abaixo\n",
        "#e sempre que executal ele dara uma \"public_url\" nova\n",
        "!curl -s http://localhost:4040/api/tunnels"
      ],
      "metadata": {
        "colab": {
          "base_uri": "https://localhost:8080/"
        },
        "id": "8mOep2m5DS3t",
        "outputId": "2241de1b-ac51-4624-9a93-41ee0a3f7e13"
      },
      "execution_count": 13,
      "outputs": [
        {
          "output_type": "stream",
          "name": "stdout",
          "text": [
            "{\"tunnels\":[{\"name\":\"command_line\",\"uri\":\"/api/tunnels/command_line\",\"public_url\":\"https://882c-34-73-182-140.ngrok-free.app\",\"proto\":\"https\",\"config\":{\"addr\":\"http://localhost:4050\",\"inspect\":true},\"metrics\":{\"conns\":{\"count\":0,\"gauge\":0,\"rate1\":0,\"rate5\":0,\"rate15\":0,\"p50\":0,\"p90\":0,\"p95\":0,\"p99\":0},\"http\":{\"count\":0,\"rate1\":0,\"rate5\":0,\"rate15\":0,\"p50\":0,\"p90\":0,\"p95\":0,\"p99\":0}}},{\"name\":\"command_line (http)\",\"uri\":\"/api/tunnels/command_line%20%28http%29\",\"public_url\":\"http://882c-34-73-182-140.ngrok-free.app\",\"proto\":\"http\",\"config\":{\"addr\":\"http://localhost:4050\",\"inspect\":true},\"metrics\":{\"conns\":{\"count\":0,\"gauge\":0,\"rate1\":0,\"rate5\":0,\"rate15\":0,\"p50\":0,\"p90\":0,\"p95\":0,\"p99\":0},\"http\":{\"count\":0,\"rate1\":0,\"rate5\":0,\"rate15\":0,\"p50\":0,\"p90\":0,\"p95\":0,\"p99\":0}}}],\"uri\":\"/api/tunnels\"}\n"
          ]
        }
      ]
    },
    {
      "cell_type": "code",
      "source": [
        "#montado um drive exemplo\n",
        "from google.colab import drive\n",
        "drive.mount('/content/drive')"
      ],
      "metadata": {
        "colab": {
          "base_uri": "https://localhost:8080/"
        },
        "id": "jSsxHQwJH0Wc",
        "outputId": "e61977a3-599b-4d61-b14e-5ae1c6f6b7c4"
      },
      "execution_count": 9,
      "outputs": [
        {
          "output_type": "stream",
          "name": "stdout",
          "text": [
            "Mounted at /content/drive\n"
          ]
        }
      ]
    },
    {
      "cell_type": "code",
      "source": [
        "#apenas exemplo nao precisa executar\n",
        "import zipfile\n",
        "zipfile.ZipFile('/content/drive/MyDrive/ARQUIVOASERIMPORTADO.zip', 'r').extractall('/content/drive/MyDrive/PASTAEXEMPLO/')"
      ],
      "metadata": {
        "id": "2SJuy4WVV6jz"
      },
      "execution_count": null,
      "outputs": []
    },
    {
      "cell_type": "code",
      "source": [
        "#exemplo de path para uma pasta com arquivos .CSV\n",
        "path = '/content/drive/MyDrive/PASTAEXEMPLO/empresas'\n",
        "empresas = spark.read.csv(path, sep=';', inferSchema=True)\n",
        "\n",
        "#path = '/content/drive/MyDrive/PASTAEXEMPLO/empresas/part-0004-547.csv' ou /part-000*\n",
        "#um exemplo caso queira um arquivo especifico e nao a pasta toda"
      ],
      "metadata": {
        "id": "zQdoS0O6X12e"
      },
      "execution_count": null,
      "outputs": []
    },
    {
      "cell_type": "code",
      "source": [
        "#contaria o total empresas do arquivo\n",
        "empresas.count()"
      ],
      "metadata": {
        "id": "1XmD_-yTYUSg"
      },
      "execution_count": null,
      "outputs": []
    },
    {
      "cell_type": "code",
      "source": [
        "empresas.limit(5).toPandas()\n",
        "#mostra um limite de 5 empresas"
      ],
      "metadata": {
        "id": "W1igmgHiYgkh"
      },
      "execution_count": null,
      "outputs": []
    },
    {
      "cell_type": "code",
      "source": [
        "#mostrara em lista o indice dos itens do empresasColNames\n",
        "empresasColNames = ['cnpj_basico', 'razao_social_nome_empresarial', 'natureza_juridica', 'qualificacao_do_responsavel', 'capital_social_da_empresa', 'porte_da_empresa', 'ente_federativo_responsavel']\n",
        "\n",
        "for index, ColName in enumarete(empresasColNames):\n",
        "    empresas = empresas.withColumnRenamed(f\"_c{index}\", colName)\n",
        "    #c = colunas\n",
        "empresas.columns\n",
        "# iria mudar o nome das colunas (c1,c2,c3) para cada um dos intens listao no empresasColNames\n",
        "# ao executar novamente empresas.limit(5).toPandas()"
      ],
      "metadata": {
        "id": "a85aB5Csa3pR"
      },
      "execution_count": null,
      "outputs": []
    },
    {
      "cell_type": "code",
      "source": [
        "empresas.printSchema()\n",
        "#mostra o tipo e colunas com oque esta trabalhando no caso aqui EMPRESAS"
      ],
      "metadata": {
        "id": "Tf1zNRX9vvHe"
      },
      "execution_count": null,
      "outputs": []
    },
    {
      "cell_type": "code",
      "source": [
        "#trasformar uma string en double\n",
        "from pyspark.sql.types import DoubleType, StringType\n",
        "from pyspark.sql import functions as f"
      ],
      "metadata": {
        "id": "FxoU1LUf10s4"
      },
      "execution_count": null,
      "outputs": []
    },
    {
      "cell_type": "code",
      "source": [
        "# função de transformação do dataframe utilizada para alterar valores e tipos de dados\n",
        "empresas = empresas.withColumn('capital_social_da_empresa', f.regexp_replace('capital_social_da_empresa', ',', '.'))\n",
        "# no caso toda vez que encontrar ',' (virgula) , '.' sera subistituido por (ponto)\n",
        "empresas.limit(5).toPandas()\n",
        "# execute novamente para ver o resultado"
      ],
      "metadata": {
        "id": "pUSev70y7xJ2"
      },
      "execution_count": null,
      "outputs": []
    },
    {
      "cell_type": "code",
      "source": [
        "# trasformando uma string em double no caso na coluna (capital_social_da_empresa)\n",
        "empresas = empresas.withColumn('capital_social_da_empresa', empresas['capital_social_da_empresa'].cast(DoubleType()))\n",
        "empresas.printSchema()\n",
        "# para ver o resultado"
      ],
      "metadata": {
        "id": "vF-M3sF08-zD"
      },
      "execution_count": null,
      "outputs": []
    },
    {
      "cell_type": "code",
      "source": [
        "#([(20200924,)] simboliza um data 2020/09/04 - yyyyMMdd\n",
        "df = spark.createDataFrame([(20200924,), (20201022,), (20210215,)], ['data'])\n",
        "df.toPandas()"
      ],
      "metadata": {
        "id": "yG7mTfZXUT7V"
      },
      "execution_count": null,
      "outputs": []
    },
    {
      "cell_type": "code",
      "source": [
        "df = df.withColumn(\"data\", f.to_date(df.data.cast(StringType()), 'yyyyMMdd'))\n",
        "df.printSchema()\n",
        "#sendo o resultado exemplo 2020-09-24"
      ],
      "metadata": {
        "id": "eCtYXxijUfo2"
      },
      "execution_count": null,
      "outputs": []
    },
    {
      "cell_type": "code",
      "source": [
        "#exemplos utilizando o parametro criado acima o (\\) indica pular uma linha\n",
        "estabelecimentos = estabelecimentos\\\n",
        "            .withColumn(\n",
        "            \"data_situacao_cadastral\",\n",
        "            f.to_date(estabelecimentos.data_situacao_cadastral.cast(StringType()), 'yyyyMMdd')\n",
        "            )\\\n",
        "            .withColumn(\n",
        "            \"data_de_inicio_atividade\",\n",
        "            f.to_date(estabelecimentos.data_de_inicio_atividade.cast(StringType()), 'yyyyMMdd')\n",
        "            )\\\n",
        "            .withColumn(\n",
        "            \"data_da_situacao_especial\",\n",
        "            f.to_date(estabelecimentos.data_da_situacao_especial.cast(StringType()), 'yyyyMMdd')\n",
        "            )\\"
      ],
      "metadata": {
        "id": "QbjfmgDfVHVI"
      },
      "execution_count": null,
      "outputs": []
    },
    {
      "cell_type": "code",
      "source": [
        "empresas\\\n",
        "        .select('*')\\\n",
        "        .show(5)\n",
        "# mostra tudo na seleção empresas até o quinto (5) item e se colocar (5, False)\n",
        "# nomes muitos extensos que as vezes ficariam com ... seria totalmente exibidos"
      ],
      "metadata": {
        "id": "-SKykk5hV_A_"
      },
      "execution_count": null,
      "outputs": []
    },
    {
      "cell_type": "code",
      "source": [
        "empresas\\\n",
        "        .select('natureza_juridica', 'porte_da_empresa', 'capital_social_da_empresa')\\\n",
        "        .show(5)\n",
        "# mostra apenas as ares selecionadas entre ()"
      ],
      "metadata": {
        "id": "MvnnzOMOYHU0"
      },
      "execution_count": null,
      "outputs": []
    },
    {
      "cell_type": "code",
      "source": [
        "df = spark.createDataFrame([(1, ), (2, ), (3, ), (None, )], ['data'])\n",
        "df.toPandas()\n",
        "df.show()\n",
        "#a informação final aparecera Nulll (quando se usa o None)"
      ],
      "metadata": {
        "id": "e1au1H_QZuLe"
      },
      "execution_count": null,
      "outputs": []
    },
    {
      "cell_type": "code",
      "source": [
        "df = spark.createDataFrame([(1.,), (2.,), (3.,), (float('nan'), )], ['data'])\n",
        "df.toPandas()\n",
        "df.show()\n",
        "#a informação final aparecera NaN (quando se usa o float)"
      ],
      "metadata": {
        "id": "jFKFRKPwZvTS"
      },
      "execution_count": null,
      "outputs": []
    },
    {
      "cell_type": "code",
      "source": [
        "# função (f) de contagem (count) exemplo\n",
        "socios.select([f.count(f.when(f.isnull(c), 1)).alias(c) for c in socios.columns]).show()"
      ],
      "metadata": {
        "id": "AhlqUoISaYpv"
      },
      "execution_count": null,
      "outputs": []
    },
    {
      "cell_type": "code",
      "source": [
        "#Filtrando resultados\n",
        "# codigo com uma string com uma (condição)\n",
        "empresas\\\n",
        "            .where(\"capital_social_da_empresa==50)\\\n",
        "            .show(5, False)"
      ],
      "metadata": {
        "id": "0AVqmEQKtieO"
      },
      "execution_count": null,
      "outputs": []
    },
    {
      "cell_type": "code",
      "source": [
        "# mais \"detalhada\" por fora de uma condição de uma string\n",
        "socios\\\n",
        "        .select(\"nome_do_socio_ou_razao_social\")\\\n",
        "        .filter(socios.nome_do_socio_ou_razao_social)\\\n",
        "        .filter(socios.nome_do_socio_ou_razao_social)\\"
      ],
      "metadata": {
        "id": "X1ZrOAs0tjGH"
      },
      "execution_count": null,
      "outputs": []
    },
    {
      "cell_type": "code",
      "source": [
        "# ou essa com um nome como exemplo e com o limite de busca no caso (10)\n",
        "socios\\\n",
        "        .select(\"nome_do_socio_ou_razao_social\")\\\n",
        "        .filter(socios.nome_do_socio_ou_razao_social.startwith(\"RODRIGO\"))\\\n",
        "        .filter(socios.nome_do_socio_ou_razao_social.endswith(\"DIAS\"))\\\n",
        "        .limit(10)\\\n",
        "        .toPandas()"
      ],
      "metadata": {
        "id": "-StxZUNttjjA"
      },
      "execution_count": null,
      "outputs": []
    },
    {
      "cell_type": "code",
      "source": [
        "# outro exemplo para criar funcao\n",
        "df = spark.createDataFrame([('RESTAURANTE DO RUI',), ('Juca restaurantes ltda',), ('Joca Restaurante',)], ['data'])\n",
        "df.toPandas()"
      ],
      "metadata": {
        "id": "UNzx3ncAxhSq"
      },
      "execution_count": null,
      "outputs": []
    },
    {
      "cell_type": "code",
      "source": [
        "# .upper procura letras maiuscula no caso a palavra RESTAURANTE\n",
        "# e se estivesse 'RESTAURANTE' sem o (%%) só retornaria o RESTAURANTE DO RUI\n",
        "# o % na frente procura pela palavra na frente da palavra %RESTAURANTE no caso (Joca Restaurante)\n",
        "# e o % depois de restaurante seria tudo depois da palavra restaurante RESTAURANTE%\n",
        "df\\\n",
        "    .where(f.upper(df.data).like('%RESTAURANTE%'))\\\n",
        "    .show(truncate=False)"
      ],
      "metadata": {
        "id": "4tV78BxDxh9A"
      },
      "execution_count": null,
      "outputs": []
    },
    {
      "cell_type": "code",
      "source": [
        "#outro exemplo com mais exemplo para busca\n",
        "empresas\\\n",
        "    .select('razao_social_nome_empresarial', 'natureza_juridica', 'porte_da_empresa', 'capital_social_da_empresa')\\\n",
        "    .filter(f.upper(empresas['razao_social_nome_empresarial']).like('%RESTAURANTE%'))\\\n",
        "    .show(15, False)"
      ],
      "metadata": {
        "id": "O3s6Ohz5xilH"
      },
      "execution_count": null,
      "outputs": []
    }
  ]
}